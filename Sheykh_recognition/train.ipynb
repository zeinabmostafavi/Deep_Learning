{
  "nbformat": 4,
  "nbformat_minor": 0,
  "metadata": {
    "colab": {
      "name": "train.ipynb",
      "provenance": [],
      "collapsed_sections": []
    },
    "kernelspec": {
      "name": "python3",
      "display_name": "Python 3"
    },
    "language_info": {
      "name": "python"
    },
    "accelerator": "GPU"
  },
  "cells": [
    {
      "cell_type": "code",
      "metadata": {
        "id": "NmOgh7imsTH2"
      },
      "source": [
        "import tensorflow as tf\n",
        "from tensorflow.keras.preprocessing.image import ImageDataGenerator\n",
        "import numpy as np\n",
        "from tensorflow.keras.layers import Dense,MaxPool2D,Flatten,Conv2D"
      ],
      "execution_count": 31,
      "outputs": []
    },
    {
      "cell_type": "code",
      "metadata": {
        "colab": {
          "base_uri": "https://localhost:8080/"
        },
        "id": "vc35FLQpnd0v",
        "outputId": "90a6e3cb-be17-4b33-be47-ca8547058fa6"
      },
      "source": [
        "width=height=230\n",
        "from google.colab import drive\n",
        "drive.mount('/content/drive')"
      ],
      "execution_count": 32,
      "outputs": [
        {
          "output_type": "stream",
          "name": "stdout",
          "text": [
            "Drive already mounted at /content/drive; to attempt to forcibly remount, call drive.mount(\"/content/drive\", force_remount=True).\n"
          ]
        }
      ]
    },
    {
      "cell_type": "code",
      "metadata": {
        "colab": {
          "base_uri": "https://localhost:8080/"
        },
        "id": "cqlMxguooZym",
        "outputId": "37c26628-536c-4a59-e0a2-3b9b475a3652"
      },
      "source": [
        "image_data_generator=ImageDataGenerator(\n",
        "    rescale=1/.255,\n",
        "    horizontal_flip = True,\n",
        "    validation_split = 0.2\n",
        ")\n",
        "validation_data = image_data_generator.flow_from_directory('/content/drive/MyDrive/Sheykh-Recognition'\n",
        "    ,\n",
        "    target_size = (width, height),\n",
        "    batch_size = 4,\n",
        "    class_mode = 'categorical',\n",
        "    subset = 'validation'\n",
        ")\n",
        "train_data=image_data_generator.flow_from_directory('/content/drive/MyDrive/Sheykh-Recognition',\n",
        "target_size=(width,height),\n",
        "class_mode='categorical',\n",
        ")"
      ],
      "execution_count": 33,
      "outputs": [
        {
          "output_type": "stream",
          "name": "stdout",
          "text": [
            "Found 31 images belonging to 2 classes.\n",
            "Found 157 images belonging to 2 classes.\n"
          ]
        }
      ]
    },
    {
      "cell_type": "code",
      "metadata": {
        "id": "S3TP-wlMp_Ix"
      },
      "source": [
        "model= tf.keras.Sequential([\n",
        "         Conv2D(32, (3, 3), activation='relu', input_shape = (width, height, 3)),\n",
        "         Conv2D(32, (3, 3), activation='relu'),\n",
        "         MaxPool2D((2, 2)),\n",
        "         Conv2D(64, (3, 3), activation='relu'),\n",
        "         Conv2D(64, (3, 3), activation='relu'),\n",
        "         MaxPool2D((2, 2)),\n",
        "         Conv2D(64, (3, 3), activation='relu'),\n",
        "         Conv2D(64, (3, 3), activation='relu'),\n",
        "         MaxPool2D((2, 2)),\n",
        "         Conv2D(128, (3, 3), activation='relu'),\n",
        "         Conv2D(128, (3, 3), activation='relu'),\n",
        "         MaxPool2D((2, 2)),\n",
        "         Conv2D(128, (3, 3), activation='relu'),\n",
        "         Conv2D(128, (3, 3), activation='relu'),\n",
        "         MaxPool2D((2, 2)),\n",
        "\n",
        "                            Flatten(),\n",
        "                            Dense(64,activation='relu'),\n",
        "                            Dense(32,activation='relu'),\n",
        "                            Dense(2,activation='softmax')\n",
        "                            \n",
        "])"
      ],
      "execution_count": 41,
      "outputs": []
    },
    {
      "cell_type": "code",
      "metadata": {
        "colab": {
          "base_uri": "https://localhost:8080/"
        },
        "id": "mCFs507mt-CQ",
        "outputId": "2482c2b3-b32e-435b-8e1f-5ace3cde02ab"
      },
      "source": [
        "model.summary()"
      ],
      "execution_count": 42,
      "outputs": [
        {
          "output_type": "stream",
          "name": "stdout",
          "text": [
            "Model: \"sequential_4\"\n",
            "_________________________________________________________________\n",
            "Layer (type)                 Output Shape              Param #   \n",
            "=================================================================\n",
            "conv2d_40 (Conv2D)           (None, 228, 228, 32)      896       \n",
            "_________________________________________________________________\n",
            "conv2d_41 (Conv2D)           (None, 226, 226, 32)      9248      \n",
            "_________________________________________________________________\n",
            "max_pooling2d_20 (MaxPooling (None, 113, 113, 32)      0         \n",
            "_________________________________________________________________\n",
            "conv2d_42 (Conv2D)           (None, 111, 111, 64)      18496     \n",
            "_________________________________________________________________\n",
            "conv2d_43 (Conv2D)           (None, 109, 109, 64)      36928     \n",
            "_________________________________________________________________\n",
            "max_pooling2d_21 (MaxPooling (None, 54, 54, 64)        0         \n",
            "_________________________________________________________________\n",
            "conv2d_44 (Conv2D)           (None, 52, 52, 64)        36928     \n",
            "_________________________________________________________________\n",
            "conv2d_45 (Conv2D)           (None, 50, 50, 64)        36928     \n",
            "_________________________________________________________________\n",
            "max_pooling2d_22 (MaxPooling (None, 25, 25, 64)        0         \n",
            "_________________________________________________________________\n",
            "conv2d_46 (Conv2D)           (None, 23, 23, 128)       73856     \n",
            "_________________________________________________________________\n",
            "conv2d_47 (Conv2D)           (None, 21, 21, 128)       147584    \n",
            "_________________________________________________________________\n",
            "max_pooling2d_23 (MaxPooling (None, 10, 10, 128)       0         \n",
            "_________________________________________________________________\n",
            "conv2d_48 (Conv2D)           (None, 8, 8, 128)         147584    \n",
            "_________________________________________________________________\n",
            "conv2d_49 (Conv2D)           (None, 6, 6, 128)         147584    \n",
            "_________________________________________________________________\n",
            "max_pooling2d_24 (MaxPooling (None, 3, 3, 128)         0         \n",
            "_________________________________________________________________\n",
            "flatten_4 (Flatten)          (None, 1152)              0         \n",
            "_________________________________________________________________\n",
            "dense_12 (Dense)             (None, 64)                73792     \n",
            "_________________________________________________________________\n",
            "dense_13 (Dense)             (None, 32)                2080      \n",
            "_________________________________________________________________\n",
            "dense_14 (Dense)             (None, 2)                 66        \n",
            "=================================================================\n",
            "Total params: 731,970\n",
            "Trainable params: 731,970\n",
            "Non-trainable params: 0\n",
            "_________________________________________________________________\n"
          ]
        }
      ]
    },
    {
      "cell_type": "code",
      "metadata": {
        "id": "jwlGMjdfuYEH"
      },
      "source": [
        "model.compile(optimizer=tf.keras.optimizers.Adam(),loss=tf.keras.losses.binary_crossentropy,metrics=['accuracy'])"
      ],
      "execution_count": 43,
      "outputs": []
    },
    {
      "cell_type": "code",
      "metadata": {
        "id": "H2LaWqZQwCk5",
        "colab": {
          "base_uri": "https://localhost:8080/"
        },
        "outputId": "f46e1e68-7363-4700-c5cc-0b71478522d6"
      },
      "source": [
        "model.fit(train_data, validation_data = validation_data, epochs=15)"
      ],
      "execution_count": 44,
      "outputs": [
        {
          "output_type": "stream",
          "name": "stdout",
          "text": [
            "Epoch 1/15\n",
            "5/5 [==============================] - 4s 513ms/step - loss: 4.3190 - accuracy: 0.5541 - val_loss: 0.7481 - val_accuracy: 0.4839\n",
            "Epoch 2/15\n",
            "5/5 [==============================] - 3s 495ms/step - loss: 0.7081 - accuracy: 0.4968 - val_loss: 0.6928 - val_accuracy: 0.5161\n",
            "Epoch 3/15\n",
            "5/5 [==============================] - 3s 479ms/step - loss: 0.6948 - accuracy: 0.5096 - val_loss: 0.6873 - val_accuracy: 0.5161\n",
            "Epoch 4/15\n",
            "5/5 [==============================] - 3s 477ms/step - loss: 0.6949 - accuracy: 0.4904 - val_loss: 0.6870 - val_accuracy: 0.5161\n",
            "Epoch 5/15\n",
            "5/5 [==============================] - 3s 509ms/step - loss: 0.6846 - accuracy: 0.5541 - val_loss: 0.6490 - val_accuracy: 0.6129\n",
            "Epoch 6/15\n",
            "5/5 [==============================] - 3s 506ms/step - loss: 0.6220 - accuracy: 0.7006 - val_loss: 0.5055 - val_accuracy: 0.7097\n",
            "Epoch 7/15\n",
            "5/5 [==============================] - 3s 503ms/step - loss: 0.5540 - accuracy: 0.6561 - val_loss: 0.4023 - val_accuracy: 0.8065\n",
            "Epoch 8/15\n",
            "5/5 [==============================] - 3s 509ms/step - loss: 0.4928 - accuracy: 0.7834 - val_loss: 0.3462 - val_accuracy: 0.8710\n",
            "Epoch 9/15\n",
            "5/5 [==============================] - 3s 492ms/step - loss: 0.3913 - accuracy: 0.8217 - val_loss: 0.2652 - val_accuracy: 0.9032\n",
            "Epoch 10/15\n",
            "5/5 [==============================] - 3s 503ms/step - loss: 0.4147 - accuracy: 0.8153 - val_loss: 0.3082 - val_accuracy: 0.8710\n",
            "Epoch 11/15\n",
            "5/5 [==============================] - 3s 514ms/step - loss: 0.5127 - accuracy: 0.7452 - val_loss: 0.6691 - val_accuracy: 0.7097\n",
            "Epoch 12/15\n",
            "5/5 [==============================] - 3s 513ms/step - loss: 0.6115 - accuracy: 0.7580 - val_loss: 0.4586 - val_accuracy: 0.7742\n",
            "Epoch 13/15\n",
            "5/5 [==============================] - 3s 504ms/step - loss: 0.4837 - accuracy: 0.7834 - val_loss: 0.3649 - val_accuracy: 0.8710\n",
            "Epoch 14/15\n",
            "5/5 [==============================] - 3s 483ms/step - loss: 0.3654 - accuracy: 0.8280 - val_loss: 0.3403 - val_accuracy: 0.8387\n",
            "Epoch 15/15\n",
            "5/5 [==============================] - 3s 478ms/step - loss: 0.3683 - accuracy: 0.8217 - val_loss: 0.2641 - val_accuracy: 0.9032\n"
          ]
        },
        {
          "output_type": "execute_result",
          "data": {
            "text/plain": [
              "<keras.callbacks.History at 0x7f01c0417610>"
            ]
          },
          "metadata": {},
          "execution_count": 44
        }
      ]
    },
    {
      "cell_type": "code",
      "metadata": {
        "id": "lCG9-72ZuLNZ"
      },
      "source": [
        "model.save('/content/model.h5')"
      ],
      "execution_count": 48,
      "outputs": []
    }
  ]
}