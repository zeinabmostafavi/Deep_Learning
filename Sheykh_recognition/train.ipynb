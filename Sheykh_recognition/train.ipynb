{
  "nbformat": 4,
  "nbformat_minor": 0,
  "metadata": {
    "accelerator": "GPU",
    "colab": {
      "name": "train.ipynb",
      "provenance": [],
      "collapsed_sections": []
    },
    "kernelspec": {
      "display_name": "Python 3",
      "name": "python3"
    },
    "language_info": {
      "name": "python"
    }
  },
  "cells": [
    {
      "cell_type": "code",
      "metadata": {
        "id": "NmOgh7imsTH2"
      },
      "source": [
        "import tensorflow as tf\n",
        "from tensorflow.keras.preprocessing.image import ImageDataGenerator\n",
        "import numpy as np\n",
        "from tensorflow.keras.layers import Dense,MaxPool2D,Flatten,Conv2D"
      ],
      "execution_count": 99,
      "outputs": []
    },
    {
      "cell_type": "code",
      "metadata": {
        "colab": {
          "base_uri": "https://localhost:8080/"
        },
        "id": "vc35FLQpnd0v",
        "outputId": "cfa450f2-fa53-42e8-d612-6ad332991c49"
      },
      "source": [
        "width=height=224\n",
        "from google.colab import drive\n",
        "drive.mount('/content/drive')"
      ],
      "execution_count": 100,
      "outputs": [
        {
          "output_type": "stream",
          "name": "stdout",
          "text": [
            "Drive already mounted at /content/drive; to attempt to forcibly remount, call drive.mount(\"/content/drive\", force_remount=True).\n"
          ]
        }
      ]
    },
    {
      "cell_type": "code",
      "metadata": {
        "colab": {
          "base_uri": "https://localhost:8080/"
        },
        "id": "cqlMxguooZym",
        "outputId": "9d71f708-c6f4-4c24-c9a3-94af146d7b1b"
      },
      "source": [
        "image_data_generator=ImageDataGenerator(\n",
        "    rescale=1/255,\n",
        "    \n",
        "    validation_split = 0.2\n",
        ")\n",
        "validation_data = image_data_generator.flow_from_directory('/content/drive/MyDrive/Sheykh-Recognition'\n",
        "    ,\n",
        "    target_size = (width, height),\n",
        "    class_mode = 'categorical',\n",
        "    subset = 'validation'\n",
        ")\n",
        "train_data=image_data_generator.flow_from_directory('/content/drive/MyDrive/Sheykh-Recognition',\n",
        "    target_size = (width, height),\n",
        "    class_mode = 'categorical',\n",
        "    subset = 'training'\n",
        ")"
      ],
      "execution_count": 101,
      "outputs": [
        {
          "output_type": "stream",
          "name": "stdout",
          "text": [
            "Found 31 images belonging to 2 classes.\n",
            "Found 126 images belonging to 2 classes.\n"
          ]
        }
      ]
    },
    {
      "cell_type": "code",
      "metadata": {
        "id": "S3TP-wlMp_Ix"
      },
      "source": [
        "model= tf.keras.Sequential([\n",
        "         Conv2D(32, (3, 3), activation='relu', input_shape = (width, height, 3)),\n",
        "         Conv2D(32, (3, 3), activation='relu'),\n",
        "         MaxPool2D((2, 2)),\n",
        "         Conv2D(32, (3, 3), activation='relu'),\n",
        "         Conv2D(32, (3, 3), activation='relu'),\n",
        "         MaxPool2D((2, 2)),\n",
        "         Conv2D(128, (3, 3), activation='relu'),\n",
        "         Conv2D(128, (3, 3), activation='relu'),\n",
        "         MaxPool2D((2, 2)),\n",
        "         Conv2D(64, (3, 3), activation='relu'),\n",
        "         Conv2D(64, (3, 3), activation='relu'),\n",
        "         MaxPool2D((2, 2)),\n",
        "\n",
        "                            Flatten(),\n",
        "                            Dense(128,activation='relu'),\n",
        "                            Dense(32,activation='relu'),\n",
        "                            Dense(2,activation='softmax')\n",
        "                            \n",
        "])"
      ],
      "execution_count": 108,
      "outputs": []
    },
    {
      "cell_type": "code",
      "metadata": {
        "colab": {
          "base_uri": "https://localhost:8080/"
        },
        "id": "mCFs507mt-CQ",
        "outputId": "a7f89ff2-2423-45f4-a6fe-92ae79d70f93"
      },
      "source": [
        "model.summary()"
      ],
      "execution_count": 103,
      "outputs": [
        {
          "output_type": "stream",
          "name": "stdout",
          "text": [
            "Model: \"sequential_17\"\n",
            "_________________________________________________________________\n",
            "Layer (type)                 Output Shape              Param #   \n",
            "=================================================================\n",
            "conv2d_154 (Conv2D)          (None, 222, 222, 32)      896       \n",
            "_________________________________________________________________\n",
            "conv2d_155 (Conv2D)          (None, 220, 220, 32)      9248      \n",
            "_________________________________________________________________\n",
            "max_pooling2d_77 (MaxPooling (None, 110, 110, 32)      0         \n",
            "_________________________________________________________________\n",
            "conv2d_156 (Conv2D)          (None, 108, 108, 32)      9248      \n",
            "_________________________________________________________________\n",
            "conv2d_157 (Conv2D)          (None, 106, 106, 32)      9248      \n",
            "_________________________________________________________________\n",
            "max_pooling2d_78 (MaxPooling (None, 53, 53, 32)        0         \n",
            "_________________________________________________________________\n",
            "conv2d_158 (Conv2D)          (None, 51, 51, 64)        18496     \n",
            "_________________________________________________________________\n",
            "conv2d_159 (Conv2D)          (None, 49, 49, 64)        36928     \n",
            "_________________________________________________________________\n",
            "max_pooling2d_79 (MaxPooling (None, 24, 24, 64)        0         \n",
            "_________________________________________________________________\n",
            "conv2d_160 (Conv2D)          (None, 22, 22, 64)        36928     \n",
            "_________________________________________________________________\n",
            "conv2d_161 (Conv2D)          (None, 20, 20, 64)        36928     \n",
            "_________________________________________________________________\n",
            "max_pooling2d_80 (MaxPooling (None, 10, 10, 64)        0         \n",
            "_________________________________________________________________\n",
            "flatten_17 (Flatten)         (None, 6400)              0         \n",
            "_________________________________________________________________\n",
            "dense_51 (Dense)             (None, 128)               819328    \n",
            "_________________________________________________________________\n",
            "dense_52 (Dense)             (None, 2)                 258       \n",
            "_________________________________________________________________\n",
            "dense_53 (Dense)             (None, 2)                 6         \n",
            "=================================================================\n",
            "Total params: 977,512\n",
            "Trainable params: 977,512\n",
            "Non-trainable params: 0\n",
            "_________________________________________________________________\n"
          ]
        }
      ]
    },
    {
      "cell_type": "code",
      "metadata": {
        "id": "jwlGMjdfuYEH"
      },
      "source": [
        "model.compile(optimizer=tf.keras.optimizers.Adam(),\n",
        "              loss=tf.keras.losses.categorical_crossentropy,\n",
        "              metrics='accuracy')"
      ],
      "execution_count": 109,
      "outputs": []
    },
    {
      "cell_type": "code",
      "metadata": {
        "colab": {
          "base_uri": "https://localhost:8080/"
        },
        "id": "uFbFPXhotmY3",
        "outputId": "a8314347-cb24-485f-9a98-0e4d200693b9"
      },
      "source": [
        "\n",
        "model.fit(train_data, validation_data=validation_data,epochs=40)\n"
      ],
      "execution_count": 110,
      "outputs": [
        {
          "output_type": "stream",
          "name": "stdout",
          "text": [
            "Epoch 1/40\n",
            "4/4 [==============================] - 5s 973ms/step - loss: 0.7020 - accuracy: 0.5238 - val_loss: 0.6925 - val_accuracy: 0.4839\n",
            "Epoch 2/40\n",
            "4/4 [==============================] - 2s 577ms/step - loss: 0.6917 - accuracy: 0.5238 - val_loss: 0.6906 - val_accuracy: 0.6774\n",
            "Epoch 3/40\n",
            "4/4 [==============================] - 2s 592ms/step - loss: 0.6803 - accuracy: 0.7222 - val_loss: 0.6538 - val_accuracy: 0.7742\n",
            "Epoch 4/40\n",
            "4/4 [==============================] - 2s 567ms/step - loss: 0.6020 - accuracy: 0.7143 - val_loss: 0.5334 - val_accuracy: 0.7419\n",
            "Epoch 5/40\n",
            "4/4 [==============================] - 2s 562ms/step - loss: 0.4836 - accuracy: 0.8016 - val_loss: 0.7329 - val_accuracy: 0.6452\n",
            "Epoch 6/40\n",
            "4/4 [==============================] - 2s 553ms/step - loss: 0.5363 - accuracy: 0.7063 - val_loss: 0.4895 - val_accuracy: 0.7742\n",
            "Epoch 7/40\n",
            "4/4 [==============================] - 2s 524ms/step - loss: 0.4358 - accuracy: 0.8175 - val_loss: 0.4988 - val_accuracy: 0.7742\n",
            "Epoch 8/40\n",
            "4/4 [==============================] - 2s 550ms/step - loss: 0.4146 - accuracy: 0.7857 - val_loss: 0.5351 - val_accuracy: 0.7419\n",
            "Epoch 9/40\n",
            "4/4 [==============================] - 2s 520ms/step - loss: 0.3905 - accuracy: 0.8175 - val_loss: 0.4986 - val_accuracy: 0.7742\n",
            "Epoch 10/40\n",
            "4/4 [==============================] - 2s 574ms/step - loss: 0.3583 - accuracy: 0.8254 - val_loss: 0.4932 - val_accuracy: 0.8065\n",
            "Epoch 11/40\n",
            "4/4 [==============================] - 2s 573ms/step - loss: 0.2866 - accuracy: 0.8810 - val_loss: 0.5283 - val_accuracy: 0.8065\n",
            "Epoch 12/40\n",
            "4/4 [==============================] - 2s 567ms/step - loss: 0.2950 - accuracy: 0.8492 - val_loss: 0.5003 - val_accuracy: 0.8065\n",
            "Epoch 13/40\n",
            "4/4 [==============================] - 2s 559ms/step - loss: 0.2292 - accuracy: 0.8968 - val_loss: 0.4509 - val_accuracy: 0.8710\n",
            "Epoch 14/40\n",
            "4/4 [==============================] - 2s 547ms/step - loss: 0.2003 - accuracy: 0.9048 - val_loss: 0.6274 - val_accuracy: 0.8710\n",
            "Epoch 15/40\n",
            "4/4 [==============================] - 2s 553ms/step - loss: 0.1789 - accuracy: 0.9286 - val_loss: 0.5742 - val_accuracy: 0.8065\n",
            "Epoch 16/40\n",
            "4/4 [==============================] - 2s 514ms/step - loss: 0.1694 - accuracy: 0.9048 - val_loss: 0.7578 - val_accuracy: 0.7742\n",
            "Epoch 17/40\n",
            "4/4 [==============================] - 2s 592ms/step - loss: 0.1109 - accuracy: 0.9603 - val_loss: 0.8320 - val_accuracy: 0.8065\n",
            "Epoch 18/40\n",
            "4/4 [==============================] - 2s 579ms/step - loss: 0.1501 - accuracy: 0.9683 - val_loss: 0.7843 - val_accuracy: 0.7742\n",
            "Epoch 19/40\n",
            "4/4 [==============================] - 2s 506ms/step - loss: 0.0766 - accuracy: 0.9683 - val_loss: 0.8093 - val_accuracy: 0.7742\n",
            "Epoch 20/40\n",
            "4/4 [==============================] - 2s 545ms/step - loss: 0.0396 - accuracy: 0.9921 - val_loss: 1.0203 - val_accuracy: 0.7742\n",
            "Epoch 21/40\n",
            "4/4 [==============================] - 2s 563ms/step - loss: 0.0216 - accuracy: 0.9921 - val_loss: 1.4733 - val_accuracy: 0.7742\n",
            "Epoch 22/40\n",
            "4/4 [==============================] - 2s 510ms/step - loss: 0.0123 - accuracy: 0.9921 - val_loss: 1.8733 - val_accuracy: 0.7742\n",
            "Epoch 23/40\n",
            "4/4 [==============================] - 2s 537ms/step - loss: 0.0079 - accuracy: 1.0000 - val_loss: 2.1842 - val_accuracy: 0.7742\n",
            "Epoch 24/40\n",
            "4/4 [==============================] - 2s 568ms/step - loss: 0.0171 - accuracy: 0.9921 - val_loss: 2.8230 - val_accuracy: 0.6452\n",
            "Epoch 25/40\n",
            "4/4 [==============================] - 2s 530ms/step - loss: 0.1974 - accuracy: 0.9206 - val_loss: 2.0846 - val_accuracy: 0.7419\n",
            "Epoch 26/40\n",
            "4/4 [==============================] - 2s 519ms/step - loss: 0.2497 - accuracy: 0.9524 - val_loss: 1.0763 - val_accuracy: 0.7419\n",
            "Epoch 27/40\n",
            "4/4 [==============================] - 2s 528ms/step - loss: 0.1841 - accuracy: 0.9206 - val_loss: 0.8258 - val_accuracy: 0.7419\n",
            "Epoch 28/40\n",
            "4/4 [==============================] - 2s 564ms/step - loss: 0.1467 - accuracy: 0.9524 - val_loss: 0.8240 - val_accuracy: 0.6774\n",
            "Epoch 29/40\n",
            "4/4 [==============================] - 2s 456ms/step - loss: 0.0691 - accuracy: 0.9762 - val_loss: 1.2026 - val_accuracy: 0.7097\n",
            "Epoch 30/40\n",
            "4/4 [==============================] - 2s 513ms/step - loss: 0.0176 - accuracy: 0.9921 - val_loss: 2.4765 - val_accuracy: 0.7097\n",
            "Epoch 31/40\n",
            "4/4 [==============================] - 2s 499ms/step - loss: 0.0203 - accuracy: 0.9921 - val_loss: 2.4575 - val_accuracy: 0.7097\n",
            "Epoch 32/40\n",
            "4/4 [==============================] - 2s 554ms/step - loss: 0.0125 - accuracy: 0.9921 - val_loss: 2.9129 - val_accuracy: 0.7419\n",
            "Epoch 33/40\n",
            "4/4 [==============================] - 2s 518ms/step - loss: 0.0029 - accuracy: 1.0000 - val_loss: 3.3823 - val_accuracy: 0.8065\n",
            "Epoch 34/40\n",
            "4/4 [==============================] - 2s 544ms/step - loss: 0.0018 - accuracy: 1.0000 - val_loss: 3.4189 - val_accuracy: 0.7419\n",
            "Epoch 35/40\n",
            "4/4 [==============================] - 2s 592ms/step - loss: 0.0043 - accuracy: 1.0000 - val_loss: 4.3154 - val_accuracy: 0.8065\n",
            "Epoch 36/40\n",
            "4/4 [==============================] - 2s 481ms/step - loss: 0.0174 - accuracy: 0.9921 - val_loss: 3.6044 - val_accuracy: 0.7419\n",
            "Epoch 37/40\n",
            "4/4 [==============================] - 2s 552ms/step - loss: 0.0104 - accuracy: 0.9921 - val_loss: 3.8566 - val_accuracy: 0.8065\n",
            "Epoch 38/40\n",
            "4/4 [==============================] - 2s 522ms/step - loss: 0.0690 - accuracy: 0.9762 - val_loss: 4.1757 - val_accuracy: 0.7419\n",
            "Epoch 39/40\n",
            "4/4 [==============================] - 2s 566ms/step - loss: 0.1177 - accuracy: 0.9841 - val_loss: 3.2024 - val_accuracy: 0.7419\n",
            "Epoch 40/40\n",
            "4/4 [==============================] - 2s 509ms/step - loss: 0.0076 - accuracy: 1.0000 - val_loss: 2.4455 - val_accuracy: 0.7097\n"
          ]
        },
        {
          "output_type": "execute_result",
          "data": {
            "text/plain": [
              "<keras.callbacks.History at 0x7f898483efd0>"
            ]
          },
          "metadata": {},
          "execution_count": 110
        }
      ]
    },
    {
      "cell_type": "code",
      "metadata": {
        "id": "lCG9-72ZuLNZ"
      },
      "source": [
        "model.save('/content/model.h5')"
      ],
      "execution_count": 111,
      "outputs": []
    },
    {
      "cell_type": "code",
      "metadata": {
        "id": "w0Af0yk1SOeu"
      },
      "source": [
        ""
      ],
      "execution_count": null,
      "outputs": []
    }
  ]
}