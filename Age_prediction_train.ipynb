{
  "nbformat": 4,
  "nbformat_minor": 0,
  "metadata": {
    "colab": {
      "name": "Age prediction_train.ipynb",
      "provenance": [],
      "collapsed_sections": []
    },
    "kernelspec": {
      "name": "python3",
      "display_name": "Python 3"
    },
    "language_info": {
      "name": "python"
    },
    "accelerator": "GPU"
  },
  "cells": [
    {
      "cell_type": "code",
      "metadata": {
        "colab": {
          "base_uri": "https://localhost:8080/"
        },
        "id": "18fsw5OTj0iv",
        "outputId": "417cedd7-fb06-4cb9-abb9-155edb2f0d8b"
      },
      "source": [
        "!pip install wandb\n",
        "import tensorflow as tf\n",
        "from tensorflow.keras.preprocessing.image import ImageDataGenerator\n",
        "import numpy as np\n",
        "from tensorflow.keras.layers import Dense,MaxPool2D,Flatten,Conv2D\n",
        "import os\n",
        "from tensorflow.keras import layers\n",
        "from wandb.keras import WandbCallback\n",
        "import wandb\n",
        "from sklearn.metrics import classification_report, confusion_matrix"
      ],
      "execution_count": 1,
      "outputs": [
        {
          "output_type": "stream",
          "name": "stdout",
          "text": [
            "Requirement already satisfied: wandb in /usr/local/lib/python3.7/dist-packages (0.12.5)\n",
            "Requirement already satisfied: six>=1.13.0 in /usr/local/lib/python3.7/dist-packages (from wandb) (1.15.0)\n",
            "Requirement already satisfied: pathtools in /usr/local/lib/python3.7/dist-packages (from wandb) (0.1.2)\n",
            "Requirement already satisfied: yaspin>=1.0.0 in /usr/local/lib/python3.7/dist-packages (from wandb) (2.1.0)\n",
            "Requirement already satisfied: requests<3,>=2.0.0 in /usr/local/lib/python3.7/dist-packages (from wandb) (2.23.0)\n",
            "Requirement already satisfied: GitPython>=1.0.0 in /usr/local/lib/python3.7/dist-packages (from wandb) (3.1.24)\n",
            "Requirement already satisfied: psutil>=5.0.0 in /usr/local/lib/python3.7/dist-packages (from wandb) (5.4.8)\n",
            "Requirement already satisfied: sentry-sdk>=1.0.0 in /usr/local/lib/python3.7/dist-packages (from wandb) (1.4.3)\n",
            "Requirement already satisfied: promise<3,>=2.0 in /usr/local/lib/python3.7/dist-packages (from wandb) (2.3)\n",
            "Requirement already satisfied: shortuuid>=0.5.0 in /usr/local/lib/python3.7/dist-packages (from wandb) (1.0.1)\n",
            "Requirement already satisfied: configparser>=3.8.1 in /usr/local/lib/python3.7/dist-packages (from wandb) (5.0.2)\n",
            "Requirement already satisfied: docker-pycreds>=0.4.0 in /usr/local/lib/python3.7/dist-packages (from wandb) (0.4.0)\n",
            "Requirement already satisfied: python-dateutil>=2.6.1 in /usr/local/lib/python3.7/dist-packages (from wandb) (2.8.2)\n",
            "Requirement already satisfied: protobuf>=3.12.0 in /usr/local/lib/python3.7/dist-packages (from wandb) (3.17.3)\n",
            "Requirement already satisfied: PyYAML in /usr/local/lib/python3.7/dist-packages (from wandb) (3.13)\n",
            "Requirement already satisfied: Click!=8.0.0,>=7.0 in /usr/local/lib/python3.7/dist-packages (from wandb) (7.1.2)\n",
            "Requirement already satisfied: subprocess32>=3.5.3 in /usr/local/lib/python3.7/dist-packages (from wandb) (3.5.4)\n",
            "Requirement already satisfied: gitdb<5,>=4.0.1 in /usr/local/lib/python3.7/dist-packages (from GitPython>=1.0.0->wandb) (4.0.7)\n",
            "Requirement already satisfied: typing-extensions>=3.7.4.3 in /usr/local/lib/python3.7/dist-packages (from GitPython>=1.0.0->wandb) (3.7.4.3)\n",
            "Requirement already satisfied: smmap<5,>=3.0.1 in /usr/local/lib/python3.7/dist-packages (from gitdb<5,>=4.0.1->GitPython>=1.0.0->wandb) (4.0.0)\n",
            "Requirement already satisfied: certifi>=2017.4.17 in /usr/local/lib/python3.7/dist-packages (from requests<3,>=2.0.0->wandb) (2021.5.30)\n",
            "Requirement already satisfied: urllib3!=1.25.0,!=1.25.1,<1.26,>=1.21.1 in /usr/local/lib/python3.7/dist-packages (from requests<3,>=2.0.0->wandb) (1.24.3)\n",
            "Requirement already satisfied: chardet<4,>=3.0.2 in /usr/local/lib/python3.7/dist-packages (from requests<3,>=2.0.0->wandb) (3.0.4)\n",
            "Requirement already satisfied: idna<3,>=2.5 in /usr/local/lib/python3.7/dist-packages (from requests<3,>=2.0.0->wandb) (2.10)\n",
            "Requirement already satisfied: termcolor<2.0.0,>=1.1.0 in /usr/local/lib/python3.7/dist-packages (from yaspin>=1.0.0->wandb) (1.1.0)\n"
          ]
        }
      ]
    },
    {
      "cell_type": "code",
      "metadata": {
        "colab": {
          "base_uri": "https://localhost:8080/"
        },
        "id": "_Gqsj7a0A8NM",
        "outputId": "9f29ff99-2811-4cf9-add8-120020ef0e5b"
      },
      "source": [
        "!pip install kaggle"
      ],
      "execution_count": 2,
      "outputs": [
        {
          "output_type": "stream",
          "name": "stdout",
          "text": [
            "Requirement already satisfied: kaggle in /usr/local/lib/python3.7/dist-packages (1.5.12)\n",
            "Requirement already satisfied: requests in /usr/local/lib/python3.7/dist-packages (from kaggle) (2.23.0)\n",
            "Requirement already satisfied: urllib3 in /usr/local/lib/python3.7/dist-packages (from kaggle) (1.24.3)\n",
            "Requirement already satisfied: python-dateutil in /usr/local/lib/python3.7/dist-packages (from kaggle) (2.8.2)\n",
            "Requirement already satisfied: certifi in /usr/local/lib/python3.7/dist-packages (from kaggle) (2021.5.30)\n",
            "Requirement already satisfied: python-slugify in /usr/local/lib/python3.7/dist-packages (from kaggle) (5.0.2)\n",
            "Requirement already satisfied: six>=1.10 in /usr/local/lib/python3.7/dist-packages (from kaggle) (1.15.0)\n",
            "Requirement already satisfied: tqdm in /usr/local/lib/python3.7/dist-packages (from kaggle) (4.62.3)\n",
            "Requirement already satisfied: text-unidecode>=1.3 in /usr/local/lib/python3.7/dist-packages (from python-slugify->kaggle) (1.3)\n",
            "Requirement already satisfied: idna<3,>=2.5 in /usr/local/lib/python3.7/dist-packages (from requests->kaggle) (2.10)\n",
            "Requirement already satisfied: chardet<4,>=3.0.2 in /usr/local/lib/python3.7/dist-packages (from requests->kaggle) (3.0.4)\n"
          ]
        }
      ]
    },
    {
      "cell_type": "code",
      "metadata": {
        "colab": {
          "base_uri": "https://localhost:8080/"
        },
        "id": "Xw4S-gc5BXDh",
        "outputId": "e6e2e899-0382-44c7-9259-21a6cac5ff6b"
      },
      "source": [
        "!mkdir ~/.kaggle\n",
        "!cp kaggle.json ~/.kaggle"
      ],
      "execution_count": 3,
      "outputs": [
        {
          "output_type": "stream",
          "name": "stdout",
          "text": [
            "mkdir: cannot create directory ‘/root/.kaggle’: File exists\n"
          ]
        }
      ]
    },
    {
      "cell_type": "code",
      "metadata": {
        "colab": {
          "base_uri": "https://localhost:8080/"
        },
        "id": "tmxpYwUaPhap",
        "outputId": "7f8fbd2e-14c3-4c88-db83-410e3a2dbe46"
      },
      "source": [
        "!kaggle datasets download -d jangedoo/utkface-new"
      ],
      "execution_count": 4,
      "outputs": [
        {
          "output_type": "stream",
          "name": "stdout",
          "text": [
            "Warning: Your Kaggle API key is readable by other users on this system! To fix this, you can run 'chmod 600 /root/.kaggle/kaggle.json'\n",
            "utkface-new.zip: Skipping, found more recently modified local copy (use --force to force download)\n"
          ]
        }
      ]
    },
    {
      "cell_type": "code",
      "metadata": {
        "colab": {
          "base_uri": "https://localhost:8080/"
        },
        "id": "QeEYvZ1OBXBA",
        "outputId": "6a9f4fef-20ad-4644-cd7c-29a9c5f55742"
      },
      "source": [
        "!unzip -qq utkface-new.zip"
      ],
      "execution_count": 5,
      "outputs": [
        {
          "output_type": "stream",
          "name": "stdout",
          "text": [
            "replace UTKFace/100_0_0_20170112213500903.jpg.chip.jpg? [y]es, [n]o, [A]ll, [N]one, [r]ename: "
          ]
        }
      ]
    },
    {
      "cell_type": "code",
      "metadata": {
        "id": "pezK4zOMBW98"
      },
      "source": [
        "width=height=224\n",
        "batch_size=32"
      ],
      "execution_count": 6,
      "outputs": []
    },
    {
      "cell_type": "code",
      "metadata": {
        "id": "mEeo9v3-sXVh"
      },
      "source": [
        "import cv2\n",
        "import pandas as pd\n",
        "import matplotlib.pyplot as plt"
      ],
      "execution_count": 7,
      "outputs": []
    },
    {
      "cell_type": "code",
      "metadata": {
        "id": "0b0rb5NmsMP6"
      },
      "source": [
        "images = [] # X\n",
        "ages = [] # Y\n",
        "\n",
        "for image_name in os.listdir('crop_part1')[0: 9000]:\n",
        "    parts = image_name.split('_')\n",
        "    ages.append(int(parts[0]))\n",
        "\n",
        "    image = cv2.imread(f'crop_part1/{image_name}')\n",
        "    image = cv2.cvtColor(image, cv2.COLOR_BGR2RGB)\n",
        "    images.append(image)"
      ],
      "execution_count": 8,
      "outputs": []
    },
    {
      "cell_type": "code",
      "metadata": {
        "colab": {
          "base_uri": "https://localhost:8080/",
          "height": 206
        },
        "id": "p1jPwobysMLt",
        "outputId": "8e347cb7-7d61-4be4-d15d-c6cf3197da33"
      },
      "source": [
        "images = pd.Series(images, name='Images')\n",
        "ages = pd.Series(ages, name='Ages')\n",
        "\n",
        "df = pd.concat([images, ages], axis=1)\n",
        "df.head()"
      ],
      "execution_count": 9,
      "outputs": [
        {
          "output_type": "execute_result",
          "data": {
            "text/html": [
              "<div>\n",
              "<style scoped>\n",
              "    .dataframe tbody tr th:only-of-type {\n",
              "        vertical-align: middle;\n",
              "    }\n",
              "\n",
              "    .dataframe tbody tr th {\n",
              "        vertical-align: top;\n",
              "    }\n",
              "\n",
              "    .dataframe thead th {\n",
              "        text-align: right;\n",
              "    }\n",
              "</style>\n",
              "<table border=\"1\" class=\"dataframe\">\n",
              "  <thead>\n",
              "    <tr style=\"text-align: right;\">\n",
              "      <th></th>\n",
              "      <th>Images</th>\n",
              "      <th>Ages</th>\n",
              "    </tr>\n",
              "  </thead>\n",
              "  <tbody>\n",
              "    <tr>\n",
              "      <th>0</th>\n",
              "      <td>[[[3, 1, 6], [3, 1, 6], [2, 2, 4], [1, 2, 4], ...</td>\n",
              "      <td>1</td>\n",
              "    </tr>\n",
              "    <tr>\n",
              "      <th>1</th>\n",
              "      <td>[[[250, 250, 250], [250, 250, 250], [250, 250,...</td>\n",
              "      <td>72</td>\n",
              "    </tr>\n",
              "    <tr>\n",
              "      <th>2</th>\n",
              "      <td>[[[95, 77, 63], [100, 82, 68], [108, 89, 75], ...</td>\n",
              "      <td>47</td>\n",
              "    </tr>\n",
              "    <tr>\n",
              "      <th>3</th>\n",
              "      <td>[[[74, 107, 64], [74, 107, 62], [76, 109, 62],...</td>\n",
              "      <td>7</td>\n",
              "    </tr>\n",
              "    <tr>\n",
              "      <th>4</th>\n",
              "      <td>[[[116, 119, 112], [115, 118, 111], [112, 111,...</td>\n",
              "      <td>43</td>\n",
              "    </tr>\n",
              "  </tbody>\n",
              "</table>\n",
              "</div>"
            ],
            "text/plain": [
              "                                              Images  Ages\n",
              "0  [[[3, 1, 6], [3, 1, 6], [2, 2, 4], [1, 2, 4], ...     1\n",
              "1  [[[250, 250, 250], [250, 250, 250], [250, 250,...    72\n",
              "2  [[[95, 77, 63], [100, 82, 68], [108, 89, 75], ...    47\n",
              "3  [[[74, 107, 64], [74, 107, 62], [76, 109, 62],...     7\n",
              "4  [[[116, 119, 112], [115, 118, 111], [112, 111,...    43"
            ]
          },
          "metadata": {},
          "execution_count": 9
        }
      ]
    },
    {
      "cell_type": "code",
      "metadata": {
        "colab": {
          "base_uri": "https://localhost:8080/",
          "height": 307
        },
        "id": "MDzaonbdsMJN",
        "outputId": "bb723931-94b7-4a53-85c7-fb3e77b5a837"
      },
      "source": [
        "print(df['Ages'][0])\n",
        "plt.imshow(df['Images'][0])"
      ],
      "execution_count": 10,
      "outputs": [
        {
          "output_type": "stream",
          "name": "stdout",
          "text": [
            "1\n"
          ]
        },
        {
          "output_type": "execute_result",
          "data": {
            "text/plain": [
              "<matplotlib.image.AxesImage at 0x7f94e0c46390>"
            ]
          },
          "metadata": {},
          "execution_count": 10
        },
        {
          "output_type": "display_data",
          "data": {
            "image/png": "[encoded data removed]",
            "text/plain": [
              "<Figure size 432x288 with 1 Axes>"
            ]
          },
          "metadata": {
            "needs_background": "light"
          }
        }
      ]
    },
    {
      "cell_type": "code",
      "metadata": {
        "colab": {
          "base_uri": "https://localhost:8080/",
          "height": 374
        },
        "id": "g5h2pH9JsL8Y",
        "outputId": "3c80e22c-ebcf-43cd-f6c3-c05f7624b38f"
      },
      "source": [
        "plt.figure(figsize=(12, 6))\n",
        "plt.hist(df['Ages'], bins=116, color='blue')\n",
        "plt.show()"
      ],
      "execution_count": 11,
      "outputs": [
        {
          "output_type": "display_data",
          "data": {
            "image/png": "[encoded data removed]",
            "text/plain": [
              "<Figure size 864x432 with 1 Axes>"
            ]
          },
          "metadata": {
            "needs_background": "light"
          }
        }
      ]
    },
    {
      "cell_type": "code",
      "metadata": {
        "id": "AVTu20SQtK8k"
      },
      "source": [
        "under_4 = []\n",
        "for i in range(len(df)):\n",
        "  if df['Ages'].iloc[i] <= 4:\n",
        "    under_4.append(df.iloc[i])\n",
        "under_4 = pd.DataFrame(under_4)\n",
        "under_4 = under_4.sample(frac=0.3)\n",
        "up_4 = df[df['Ages'] > 4]\n",
        "df = pd.concat([under_4, up_4])"
      ],
      "execution_count": 12,
      "outputs": []
    },
    {
      "cell_type": "code",
      "metadata": {
        "colab": {
          "base_uri": "https://localhost:8080/",
          "height": 338
        },
        "id": "1MQQb73-tK4l",
        "outputId": "de04234e-59b0-49a5-e827-eb3c6e8c6772"
      },
      "source": [
        "df = df[df['Ages'] < 90]\n",
        "plt.figure(figsize=(18, 6))\n",
        "plt.hist(df['Ages'], bins=89, color='blue')\n",
        "plt.show()"
      ],
      "execution_count": 13,
      "outputs": [
        {
          "output_type": "display_data",
          "data": {
            "image/png": "[encoded data removed]",
            "text/plain": [
              "<Figure size 1296x432 with 1 Axes>"
            ]
          },
          "metadata": {
            "needs_background": "light"
          }
        }
      ]
    },
    {
      "cell_type": "code",
      "metadata": {
        "colab": {
          "base_uri": "https://localhost:8080/"
        },
        "id": "_-418tovtK2M",
        "outputId": "9df8d7fa-1599-4a0e-a011-2b57e156bac5"
      },
      "source": [
        "X = []\n",
        "Y =[]\n",
        "for i in range(len(df)):\n",
        "  df['Images'].iloc[i] = cv2.resize(df['Images'].iloc[i], (width, height))\n",
        "  X.append(df['Images'].iloc[i])\n",
        "  Y.append(df['Ages'].iloc[i])\n",
        "X= np.array(X)\n",
        "Y = np.array(Y)"
      ],
      "execution_count": 14,
      "outputs": [
        {
          "output_type": "stream",
          "name": "stderr",
          "text": [
            "/usr/local/lib/python3.7/dist-packages/pandas/core/indexing.py:670: SettingWithCopyWarning: \n",
            "A value is trying to be set on a copy of a slice from a DataFrame\n",
            "\n",
            "See the caveats in the documentation: https://pandas.pydata.org/pandas-docs/stable/user_guide/indexing.html#returning-a-view-versus-a-copy\n",
            "  iloc._setitem_with_indexer(indexer, value)\n"
          ]
        }
      ]
    },
    {
      "cell_type": "code",
      "metadata": {
        "id": "FBxfieXetqYr"
      },
      "source": [
        "from sklearn.model_selection import train_test_split\n",
        "X.shape\n",
        "x_train, x_val, y_train, y_val = train_test_split(X, Y, test_size=0.2)"
      ],
      "execution_count": 15,
      "outputs": []
    },
    {
      "cell_type": "code",
      "metadata": {
        "colab": {
          "base_uri": "https://localhost:8080/"
        },
        "id": "3dcGclSFtqKr",
        "outputId": "e7d846ef-39ce-46ea-d694-1f48162ba67e"
      },
      "source": [
        "x_train.shape"
      ],
      "execution_count": 16,
      "outputs": [
        {
          "output_type": "execute_result",
          "data": {
            "text/plain": [
              "(6035, 224, 224, 3)"
            ]
          },
          "metadata": {},
          "execution_count": 16
        }
      ]
    },
    {
      "cell_type": "code",
      "metadata": {
        "id": "AuB_iIZNBW7v"
      },
      "source": [
        "data_generator=ImageDataGenerator(\n",
        "rescale=1/255,\n",
        "horizontal_flip=True,\n",
        ")\n"
      ],
      "execution_count": 17,
      "outputs": []
    },
    {
      "cell_type": "code",
      "metadata": {
        "id": "S3AljulTBW2C"
      },
      "source": [
        "data_generator = ImageDataGenerator(rescale=1/.255,\n",
        "                                    horizontal_flip=True)\n",
        "\n",
        "train_data = data_generator.flow(x_train,\n",
        "                                 y_train,\n",
        "                                 batch_size=batch_size)\n",
        "\n",
        "val_data = data_generator.flow(x_val,\n",
        "                                 y_val,\n",
        "                                 batch_size=batch_size)"
      ],
      "execution_count": 18,
      "outputs": []
    },
    {
      "cell_type": "code",
      "metadata": {
        "id": "mwfCDWNuBW0e"
      },
      "source": [
        "base_model = tf.keras.applications.ResNet50V2(\n",
        "    input_shape=(width, height, 3),\n",
        "    include_top = False,\n",
        "    weights = 'imagenet',\n",
        "    pooling = 'max'\n",
        "    )"
      ],
      "execution_count": 19,
      "outputs": []
    },
    {
      "cell_type": "code",
      "metadata": {
        "id": "AsZ-1ijgBA57"
      },
      "source": [
        "model = tf.keras.Sequential([\n",
        "        base_model,\n",
        "        Flatten(),\n",
        "        layers.Dense(128, activation='relu'),\n",
        "        layers.Dense(32, activation='relu'),\n",
        "        layers.BatchNormalization(),\n",
        "        layers.Dense(1, activation='linear'),              \n",
        "])"
      ],
      "execution_count": 20,
      "outputs": []
    },
    {
      "cell_type": "code",
      "metadata": {
        "id": "ee1hOI5gB6K3",
        "colab": {
          "base_uri": "https://localhost:8080/",
          "height": 75
        },
        "outputId": "9b3ca51a-5540-474b-94ad-3a16cc0230a0"
      },
      "source": [
        "wandb.init(project=\"Age_pridiction\")"
      ],
      "execution_count": 21,
      "outputs": [
        {
          "output_type": "stream",
          "name": "stderr",
          "text": [
            "\u001b[34m\u001b[1mwandb\u001b[0m: Currently logged in as: \u001b[33mzeinabmostafavi\u001b[0m (use `wandb login --relogin` to force relogin)\n"
          ]
        },
        {
          "output_type": "display_data",
          "data": {
            "text/html": [
              "\n",
              "                    Syncing run <strong><a href=\"https://wandb.ai/zeinabmostafavi/Age_pridiction/runs/3h2ewct2\" target=\"_blank\">effortless-disco-5</a></strong> to <a href=\"https://wandb.ai/zeinabmostafavi/Age_pridiction\" target=\"_blank\">Weights & Biases</a> (<a href=\"https://docs.wandb.com/integrations/jupyter.html\" target=\"_blank\">docs</a>).<br/>\n",
              "\n",
              "                "
            ],
            "text/plain": [
              "<IPython.core.display.HTML object>"
            ]
          },
          "metadata": {}
        },
        {
          "output_type": "execute_result",
          "data": {
            "text/plain": [
              "<wandb.sdk.wandb_run.Run at 0x7f94d067dd50>"
            ],
            "text/html": [
              "<button onClick=\"this.nextSibling.style.display='block';this.style.display='none';\">Display W&B run</button><iframe src=\"https://wandb.ai/zeinabmostafavi/Age_pridiction/runs/3h2ewct2?jupyter=true\" style=\"border:none;width:100%;height:420px;display:none;\"></iframe>"
            ]
          },
          "metadata": {},
          "execution_count": 21
        }
      ]
    },
    {
      "cell_type": "code",
      "metadata": {
        "id": "FkbRXAZmB6Yz"
      },
      "source": [
        "config = wandb.config\n",
        "config.learning_rate = 0.001\n",
        "\n",
        "\n",
        "model.compile(loss='mean_squared_error',\n",
        "              optimizer=tf.keras.optimizers.Adam(learning_rate=config.learning_rate))\n",
        "\n"
      ],
      "execution_count": 24,
      "outputs": []
    },
    {
      "cell_type": "code",
      "metadata": {
        "id": "AaF5oIWOB6j1",
        "colab": {
          "base_uri": "https://localhost:8080/"
        },
        "outputId": "91a66422-5697-4b94-d9e8-e914adbacdf1"
      },
      "source": [
        "model.fit(train_data,\n",
        "          validation_data=val_data,\n",
        "          epochs=10,\n",
        "          shuffle=True)"
      ],
      "execution_count": 25,
      "outputs": [
        {
          "output_type": "stream",
          "name": "stdout",
          "text": [
            "Epoch 1/10\n",
            "189/189 [==============================] - 142s 713ms/step - loss: 1285.5251 - val_loss: 1899.4254\n",
            "Epoch 2/10\n",
            "189/189 [==============================] - 130s 689ms/step - loss: 885.5955 - val_loss: 854.3759\n",
            "Epoch 3/10\n",
            "189/189 [==============================] - 130s 689ms/step - loss: 527.8081 - val_loss: 957.7811\n",
            "Epoch 4/10\n",
            "189/189 [==============================] - 130s 689ms/step - loss: 248.6041 - val_loss: 216.7640\n",
            "Epoch 5/10\n",
            "189/189 [==============================] - 130s 689ms/step - loss: 125.1273 - val_loss: 191.3732\n",
            "Epoch 6/10\n",
            "189/189 [==============================] - 130s 689ms/step - loss: 86.4473 - val_loss: 142.4625\n",
            "Epoch 7/10\n",
            "189/189 [==============================] - 130s 689ms/step - loss: 68.7895 - val_loss: 98.7934\n",
            "Epoch 8/10\n",
            "189/189 [==============================] - 130s 689ms/step - loss: 68.7043 - val_loss: 118.2722\n",
            "Epoch 9/10\n",
            "189/189 [==============================] - 130s 688ms/step - loss: 66.7373 - val_loss: 152.1966\n",
            "Epoch 10/10\n",
            "189/189 [==============================] - 130s 688ms/step - loss: 53.1406 - val_loss: 125.3611\n"
          ]
        },
        {
          "output_type": "execute_result",
          "data": {
            "text/plain": [
              "<keras.callbacks.History at 0x7f945e5cbd10>"
            ]
          },
          "metadata": {},
          "execution_count": 25
        }
      ]
    },
    {
      "cell_type": "code",
      "metadata": {
        "colab": {
          "base_uri": "https://localhost:8080/"
        },
        "id": "0UHsc1dG0oaW",
        "outputId": "c8836469-fb2c-455a-e1e7-9a3d8f31783c"
      },
      "source": [
        "model.save('model.h5')"
      ],
      "execution_count": 26,
      "outputs": [
        {
          "output_type": "stream",
          "name": "stderr",
          "text": [
            "/usr/local/lib/python3.7/dist-packages/keras/utils/generic_utils.py:497: CustomMaskWarning: Custom mask layers require a config and must override get_config. When loading, the custom mask layer must be passed to the custom_objects argument.\n",
            "  category=CustomMaskWarning)\n"
          ]
        }
      ]
    }
  ]
}